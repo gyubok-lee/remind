{
 "cells": [
  {
   "cell_type": "markdown",
   "metadata": {},
   "source": [
    "# 크롤링"
   ]
  },
  {
   "cell_type": "code",
   "execution_count": 1,
   "metadata": {},
   "outputs": [],
   "source": [
    "import requests\n",
    "from bs4 import BeautifulSoup\n",
    "import time\n",
    "import urllib.request \n",
    "from selenium.webdriver import Chrome\n",
    "import re     \n",
    "from selenium.webdriver.chrome.options import Options\n",
    "from selenium.webdriver.common.keys import Keys\n",
    "import datetime as dt\n",
    "import pandas as pd"
   ]
  },
  {
   "cell_type": "code",
   "execution_count": 55,
   "metadata": {},
   "outputs": [
    {
     "data": {
      "text/plain": [
       "'https://www.youtube.com/channel/UC3HH4dZj3CZmrCC0MuDliww'"
      ]
     },
     "execution_count": 55,
     "metadata": {},
     "output_type": "execute_result"
    }
   ],
   "source": [
    "def get_videos (channel): \n",
    "    \n",
    "    # 브라우저 열기\n",
    "    delay=3\n",
    "    browser = Chrome()\n",
    "    browser.implicitly_wait(delay)\n",
    "\n",
    "    # url을 받아 창을 열고, 최대화\n",
    "    start_url  = channel\n",
    "    browser.get(start_url)  \n",
    "    browser.maximize_window()\n",
    "\n",
    "    # 영상목록 클릭 후 body 찾기\n",
    "    body = browser.find_element_by_css_selector('body')\n",
    "\n",
    "    \n",
    "    # 5번 밑으로 내리기 -> 타임라인 업데이트를 위해서!\n",
    "    num_of_pagedowns = 2\n",
    "    while num_of_pagedowns:\n",
    "        body.send_keys(Keys.PAGE_DOWN)\n",
    "        time.sleep(1)\n",
    "        num_of_pagedowns -= 1\n",
    "    \n",
    "    # 파싱 후 크롤링\n",
    "    html0 = browser.page_source\n",
    "    soup = BeautifulSoup(html0,'lxml')\n",
    "    \n",
    "    videos = soup.select('h3 > a')\n",
    "\n",
    "    title = []\n",
    "    url = []\n",
    "\n",
    "    for video in videos:\n",
    "        if video.get('href')[:7] != '/watch?':\n",
    "            pass\n",
    "        else:\n",
    "            title.append(video.text)\n",
    "            url.append('https://www.youtube.com/' + video.get('href'))\n",
    "    \n",
    "   \n",
    "\n",
    "    browser.close() \n",
    "    return url, title\n",
    "\n",
    "\n",
    "'https://www.youtube.com/channel/UC3HH4dZj3CZmrCC0MuDliww'"
   ]
  },
  {
   "cell_type": "code",
   "execution_count": 57,
   "metadata": {
    "scrolled": true
   },
   "outputs": [],
   "source": [
    "url_list, title_list = get_videos('https://www.youtube.com/channel/UC3HH4dZj3CZmrCC0MuDliww')"
   ]
  },
  {
   "cell_type": "code",
   "execution_count": 62,
   "metadata": {},
   "outputs": [
    {
     "name": "stdout",
     "output_type": "stream",
     "text": [
      "019. 9. 20. 전설은 영원하다 (결말포함/다크나이트라이즈)\n",
      "1,871,213회\n",
      "9.3천개 547개\n"
     ]
    },
    {
     "ename": "NameError",
     "evalue": "name 'url' is not defined",
     "output_type": "error",
     "traceback": [
      "\u001b[1;31m---------------------------------------------------------------------------\u001b[0m",
      "\u001b[1;31mNameError\u001b[0m                                 Traceback (most recent call last)",
      "\u001b[1;32m<ipython-input-62-5ad49d3d3fbc>\u001b[0m in \u001b[0;36m<module>\u001b[1;34m\u001b[0m\n\u001b[0;32m     32\u001b[0m     \u001b[1;34m'제목'\u001b[0m\u001b[1;33m:\u001b[0m\u001b[0mtitle_list\u001b[0m\u001b[1;33m,\u001b[0m\u001b[1;33m\u001b[0m\u001b[1;33m\u001b[0m\u001b[0m\n\u001b[0;32m     33\u001b[0m     \u001b[1;34m'유튜브 조회수'\u001b[0m\u001b[1;33m:\u001b[0m\u001b[1;33m[\u001b[0m\u001b[0mview\u001b[0m\u001b[1;33m]\u001b[0m\u001b[1;33m,\u001b[0m\u001b[1;33m\u001b[0m\u001b[1;33m\u001b[0m\u001b[0m\n\u001b[1;32m---> 34\u001b[1;33m     \u001b[1;34m'Video_URL'\u001b[0m\u001b[1;33m:\u001b[0m\u001b[1;33m[\u001b[0m\u001b[0murl\u001b[0m\u001b[1;33m]\u001b[0m\u001b[1;33m,\u001b[0m\u001b[1;33m\u001b[0m\u001b[1;33m\u001b[0m\u001b[0m\n\u001b[0m\u001b[0;32m     35\u001b[0m \u001b[1;33m\u001b[0m\u001b[0m\n\u001b[0;32m     36\u001b[0m     })\n",
      "\u001b[1;31mNameError\u001b[0m: name 'url' is not defined"
     ]
    }
   ],
   "source": [
    "\n",
    "for i in reversed(range(len(url_list))):\n",
    "    name = title_list[i]\n",
    "    start_url = url_list[i]\n",
    "    browser = Chrome()\n",
    "    browser.get(start_url)\n",
    "\n",
    "    time.sleep(2)\n",
    "\n",
    "    html0 = browser.page_source\n",
    "    html = BeautifulSoup(html0,'html.parser')\n",
    "\n",
    "    start_date = html.find('div',{'id':'info-strings','class':'style-scope ytd-video-primary-info-renderer'}).text\n",
    "    start_date = re.sub(r'.', '', start_date, count = 1)\n",
    "    print(start_date + \" \" + name)\n",
    "    view = html.find('span',{'class':'view-count style-scope ytd-video-view-count-renderer'}).text\n",
    "    view = re.sub(r'.', '', view, count = 4)\n",
    "    print(view)\n",
    "    time.sleep(1)\n",
    "    #좋아요수\n",
    "    likes_num = html.find('yt-formatted-string',{'id':'text',\n",
    "                                                 'class':'style-scope ytd-toggle-button-renderer style-text',\n",
    "                                                 'aria-label':re.compile('좋아요')}).text+'개'\n",
    "        \n",
    "        \n",
    "    #싫어요수\n",
    "    unlikes_num = html.find('yt-formatted-string',{'id':'text',\n",
    "                                                   'class':'style-scope ytd-toggle-button-renderer style-text',\n",
    "                                                   'aria-label':re.compile('싫어요')}).text+'개'\n",
    "    print(likes_num,unlikes_num)\n",
    "    insert_data = pd.DataFrame({\n",
    "    '날짜':[start_date],\n",
    "    '제목':title_list,\n",
    "    '유튜브 조회수':[view],\n",
    "    'Video_URL':[url],\n",
    "\n",
    "    })\n",
    "    df = df.append(insert_data)\n",
    "\n",
    "browser.quit()\n",
    "df"
   ]
  },
  {
   "cell_type": "code",
   "execution_count": null,
   "metadata": {},
   "outputs": [],
   "source": []
  },
  {
   "cell_type": "code",
   "execution_count": 51,
   "metadata": {},
   "outputs": [],
   "source": [
    "def info_crawler (url_list,html):\n",
    "    info_df = pd.DataFrame({'name':[],\n",
    "                     'thumbnail':[],\n",
    "                     'view':[],\n",
    "                     'previous_time':[],\n",
    "                     'video_url':[],\n",
    "                     'start_date':[],\n",
    "                     'comment':[],\n",
    "                     'likes_num':[],\n",
    "                     'unlikes_num':[]})\n",
    "    \n",
    "    # 리스트 준비\n",
    "    titles = html.find_all('a',{'id':'video-title'})\n",
    "    thums = html.find_all('a',{'id':'thumbnail'})\n",
    "    metas =html.find_all('div',{'id':'metadata-line'})\n",
    "    browser = Chrome()\n",
    "\n",
    "    # 제목, 썸네일, url, 조회수, 게시일 추출\n",
    "    for i in range(0,3): # 시간제약상 5개만\n",
    "        name = titles[i].text\n",
    "        thum = thums[i].find('img')['src']\n",
    "        url = url_list[i]\n",
    "        meta0 = metas[i]\n",
    "    \n",
    "        view = meta0.find_all('span',\n",
    "            {'class':'style-scope ytd-grid-video-renderer'})[0].text.split()[1]\n",
    "        previous = meta0.find_all('span',\n",
    "                    {'class':'style-scope ytd-grid-video-renderer'})[1].text\n",
    "    \n",
    "    \n",
    "        start_url = url_list[i]\n",
    "    \n",
    "        browser = Chrome()\n",
    "        browser.implicitly_wait(3)\n",
    "        browser.get(start_url)\n",
    "    \n",
    "        body = browser.find_element_by_tag_name('body')\n",
    "    \n",
    "        time.sleep(3)\n",
    "\n",
    "        # 영상별 댓글수, 좋아요 및 싫어요 개수 추출\n",
    "        num_of_pagedowns = 2\n",
    "        while num_of_pagedowns:\n",
    "            body.send_keys(Keys.PAGE_DOWN)\n",
    "            time.sleep(3) \n",
    "            num_of_pagedowns -= 1\n",
    "        html0 = browser.page_source\n",
    "        html = BeautifulSoup(html0,'html.parser')\n",
    "    \n",
    "        browser.close()\n",
    "        \n",
    "        start_date = html.find('span',\n",
    "            {'class':'date style-scope ytd-video-secondary-info-renderer'}).text\n",
    "        \n",
    "        try:\n",
    "            comment = html.find('h2',{'id':'count'}).find('yt-formatted-string').text\n",
    "        except:\n",
    "            pass\n",
    "    \n",
    "        #좋아요수\n",
    "        likes_num = html.find('yt-formatted-string',{'id':'text',\n",
    "                'class':'style-scope ytd-toggle-button-renderer style-text',\n",
    "                                'aria-label':re.compile('좋아요')}).text+'개'\n",
    "        \n",
    "        \n",
    "        #싫어요수\n",
    "        unlikes_num = html.find('yt-formatted-string',{'id':'text',\n",
    "                    'class':'style-scope ytd-toggle-button-renderer style-text',\n",
    "                                    'aria-label':re.compile('싫어요')}).text+'개'\n",
    "    \n",
    "        insert_data = pd.DataFrame({'name':[name],\n",
    "                     'thumbnail':[thum],\n",
    "                     'view':[view],\n",
    "                     'previous_time':[previous],\n",
    "                     'video_url':[url],\n",
    "                     'start_date':[start_date],\n",
    "                     'comment':[comment],\n",
    "                     'likes_num':[likes_num],\n",
    "                     'unlikes_num':[unlikes_num]})\n",
    "    \n",
    "        info_df = info_df.append(insert_data)\n",
    "    info_df.index = range(len(info_df))\n",
    "    return info_df"
   ]
  },
  {
   "cell_type": "code",
   "execution_count": 52,
   "metadata": {},
   "outputs": [
    {
     "ename": "AttributeError",
     "evalue": "'list' object has no attribute 'find_all'",
     "output_type": "error",
     "traceback": [
      "\u001b[1;31m---------------------------------------------------------------------------\u001b[0m",
      "\u001b[1;31mAttributeError\u001b[0m                            Traceback (most recent call last)",
      "\u001b[1;32m<ipython-input-52-44cb7d614e46>\u001b[0m in \u001b[0;36m<module>\u001b[1;34m\u001b[0m\n\u001b[1;32m----> 1\u001b[1;33m \u001b[0mv1\u001b[0m \u001b[1;33m=\u001b[0m \u001b[0minfo_crawler\u001b[0m\u001b[1;33m(\u001b[0m\u001b[0mch1\u001b[0m\u001b[1;33m,\u001b[0m\u001b[0mll\u001b[0m\u001b[1;33m)\u001b[0m\u001b[1;33m\u001b[0m\u001b[1;33m\u001b[0m\u001b[0m\n\u001b[0m\u001b[0;32m      2\u001b[0m \u001b[0mv1\u001b[0m\u001b[1;33m\u001b[0m\u001b[1;33m\u001b[0m\u001b[0m\n",
      "\u001b[1;32m<ipython-input-51-deff5cc8ad94>\u001b[0m in \u001b[0;36minfo_crawler\u001b[1;34m(url_list, html)\u001b[0m\n\u001b[0;32m     11\u001b[0m \u001b[1;33m\u001b[0m\u001b[0m\n\u001b[0;32m     12\u001b[0m     \u001b[1;31m# 리스트 준비\u001b[0m\u001b[1;33m\u001b[0m\u001b[1;33m\u001b[0m\u001b[1;33m\u001b[0m\u001b[0m\n\u001b[1;32m---> 13\u001b[1;33m     \u001b[0mtitles\u001b[0m \u001b[1;33m=\u001b[0m \u001b[0mhtml\u001b[0m\u001b[1;33m.\u001b[0m\u001b[0mfind_all\u001b[0m\u001b[1;33m(\u001b[0m\u001b[1;34m'a'\u001b[0m\u001b[1;33m,\u001b[0m\u001b[1;33m{\u001b[0m\u001b[1;34m'id'\u001b[0m\u001b[1;33m:\u001b[0m\u001b[1;34m'video-title'\u001b[0m\u001b[1;33m}\u001b[0m\u001b[1;33m)\u001b[0m\u001b[1;33m\u001b[0m\u001b[1;33m\u001b[0m\u001b[0m\n\u001b[0m\u001b[0;32m     14\u001b[0m     \u001b[0mthums\u001b[0m \u001b[1;33m=\u001b[0m \u001b[0mhtml\u001b[0m\u001b[1;33m.\u001b[0m\u001b[0mfind_all\u001b[0m\u001b[1;33m(\u001b[0m\u001b[1;34m'a'\u001b[0m\u001b[1;33m,\u001b[0m\u001b[1;33m{\u001b[0m\u001b[1;34m'id'\u001b[0m\u001b[1;33m:\u001b[0m\u001b[1;34m'thumbnail'\u001b[0m\u001b[1;33m}\u001b[0m\u001b[1;33m)\u001b[0m\u001b[1;33m\u001b[0m\u001b[1;33m\u001b[0m\u001b[0m\n\u001b[0;32m     15\u001b[0m     \u001b[0mmetas\u001b[0m \u001b[1;33m=\u001b[0m\u001b[0mhtml\u001b[0m\u001b[1;33m.\u001b[0m\u001b[0mfind_all\u001b[0m\u001b[1;33m(\u001b[0m\u001b[1;34m'div'\u001b[0m\u001b[1;33m,\u001b[0m\u001b[1;33m{\u001b[0m\u001b[1;34m'id'\u001b[0m\u001b[1;33m:\u001b[0m\u001b[1;34m'metadata-line'\u001b[0m\u001b[1;33m}\u001b[0m\u001b[1;33m)\u001b[0m\u001b[1;33m\u001b[0m\u001b[1;33m\u001b[0m\u001b[0m\n",
      "\u001b[1;31mAttributeError\u001b[0m: 'list' object has no attribute 'find_all'"
     ]
    }
   ],
   "source": [
    "v1 = info_crawler(ch1,ll)\n",
    "v1"
   ]
  },
  {
   "cell_type": "code",
   "execution_count": null,
   "metadata": {},
   "outputs": [],
   "source": []
  },
  {
   "cell_type": "code",
   "execution_count": 37,
   "metadata": {},
   "outputs": [],
   "source": [
    "def get_video(channel):\n",
    "    feature = input('검색어를 입력하시오 : ')\n",
    "    \n",
    "    driver = Chrome()\n",
    "    driver.get(channel)\n",
    "    \n",
    "    n = 3\n",
    "    while n > 0:\n",
    "        print('웹페이지를 불러오는 중입니다..' + '..' * n)\n",
    "        time.sleep(1)\n",
    "        n -= 1\n",
    "    '''\n",
    "    src = driver.find_element_by_xpath('//*[@id=\"search\"]')\n",
    "    src.send_keys(feature)\n",
    "    src.send_keys(Keys.RETURN)\n",
    "    \n",
    "    n = 2\n",
    "    while n > 0:\n",
    "        print('검색 결과를 불러오는 중입니다..' + '..' * n)\n",
    "        time.sleep(1)\n",
    "        n -= 1\n",
    "        \n",
    "    print('데이터 수집 중입니다....')\n",
    "    '''\n",
    "               \n",
    "    html = driver.page_source\n",
    "    soup = BeautifulSoup(html)\n",
    "    \n",
    "    df_title = []\n",
    "    df_link = []\n",
    "    df_writer = []\n",
    "    df_view = []\n",
    "    df_date = []\n",
    "    \n",
    "    for i in range(len(soup.find_all('ytd-video-meta-block', 'style-scope ytd-video-renderer byline-separated'))):\n",
    "        title = soup.find_all('a', {'id' : 'video-title'})[i].text.replace('\\n', '')\n",
    "        link = 'https://www.youtube.com/' + soup.find_all('a', {'id' : 'video-title'})[i]['href']\n",
    "        writer = soup.find_all('ytd-channel-name', 'long-byline style-scope ytd-video-renderer')[i].text.replace('\\n', '').split(' ')[0]\n",
    "        view = soup.find_all('ytd-video-meta-block', 'style-scope ytd-video-renderer byline-separated')[i].text.split('•')[1].split('\\n')[3]\n",
    "        date = soup.find_all('ytd-video-meta-block', 'style-scope ytd-video-renderer byline-separated')[i].text.split('•')[1].split('\\n')[4]\n",
    "    \n",
    "        df_title.append(title)\n",
    "        df_link.append(link)\n",
    "        df_writer.append(writer)\n",
    "        df_view.append(view)\n",
    "        df_date.append(date)\n",
    "          \n",
    "    df_just_video = pd.DataFrame(columns=['영상제목', '채널명', '영상url', '조회수', '영상등록날짜'])\n",
    "\n",
    "    df_just_video['영상제목'] = df_title\n",
    "    df_just_video['채널명'] = df_writer\n",
    "    df_just_video['영상url'] = df_link\n",
    "    df_just_video['조회수'] = df_view\n",
    "    df_just_video['영상등록날짜'] = df_date\n",
    "          \n",
    "    df_just_video.to_csv('df_just_video.csv', encoding='utf-8-sig', index=False)\n",
    "    \n",
    "    driver.close()\n",
    "          \n",
    "    result = input('데이터프레임 저장이 완료되었습니다! 데이터프레임을 조회하시겠습니까? (y/n)')\n",
    "    if result == 'y':\n",
    "        display(df_just_video)\n",
    "        question = input('원하는 영상을 재생하시겠습니까? (y/n)')\n",
    "        if question == 'y':\n",
    "            button = int(input('재생하고자 하는 영상의 번호(출력된 표 가장 왼쪽의 번호)를 입력해주세요.'))\n",
    "            driver = webdriver.Chrome(path)\n",
    "            driver.get(df_just_video['영상url'][button])\n",
    "        else:\n",
    "            return '프로그램을 종료합니다.'\n",
    "    else:\n",
    "        return '프로그램을 종료합니다.'"
   ]
  },
  {
   "cell_type": "code",
   "execution_count": 38,
   "metadata": {},
   "outputs": [
    {
     "name": "stdout",
     "output_type": "stream",
     "text": [
      "검색어를 입력하시오 : \n",
      "웹페이지를 불러오는 중입니다........\n",
      "웹페이지를 불러오는 중입니다......\n",
      "웹페이지를 불러오는 중입니다....\n",
      "데이터프레임 저장이 완료되었습니다! 데이터프레임을 조회하시겠습니까? (y/n)y\n"
     ]
    },
    {
     "data": {
      "text/html": [
       "<div>\n",
       "<style scoped>\n",
       "    .dataframe tbody tr th:only-of-type {\n",
       "        vertical-align: middle;\n",
       "    }\n",
       "\n",
       "    .dataframe tbody tr th {\n",
       "        vertical-align: top;\n",
       "    }\n",
       "\n",
       "    .dataframe thead th {\n",
       "        text-align: right;\n",
       "    }\n",
       "</style>\n",
       "<table border=\"1\" class=\"dataframe\">\n",
       "  <thead>\n",
       "    <tr style=\"text-align: right;\">\n",
       "      <th></th>\n",
       "      <th>영상제목</th>\n",
       "      <th>채널명</th>\n",
       "      <th>영상url</th>\n",
       "      <th>조회수</th>\n",
       "      <th>영상등록날짜</th>\n",
       "    </tr>\n",
       "  </thead>\n",
       "  <tbody>\n",
       "  </tbody>\n",
       "</table>\n",
       "</div>"
      ],
      "text/plain": [
       "Empty DataFrame\n",
       "Columns: [영상제목, 채널명, 영상url, 조회수, 영상등록날짜]\n",
       "Index: []"
      ]
     },
     "metadata": {},
     "output_type": "display_data"
    },
    {
     "name": "stdout",
     "output_type": "stream",
     "text": [
      "원하는 영상을 재생하시겠습니까? (y/n)n\n"
     ]
    },
    {
     "data": {
      "text/plain": [
       "'프로그램을 종료합니다.'"
      ]
     },
     "execution_count": 38,
     "metadata": {},
     "output_type": "execute_result"
    }
   ],
   "source": [
    "get_video('https://www.youtube.com/channel/UC3HH4dZj3CZmrCC0MuDliww')"
   ]
  },
  {
   "cell_type": "code",
   "execution_count": null,
   "metadata": {},
   "outputs": [],
   "source": []
  }
 ],
 "metadata": {
  "kernelspec": {
   "display_name": "Python 3",
   "language": "python",
   "name": "python3"
  },
  "language_info": {
   "codemirror_mode": {
    "name": "ipython",
    "version": 3
   },
   "file_extension": ".py",
   "mimetype": "text/x-python",
   "name": "python",
   "nbconvert_exporter": "python",
   "pygments_lexer": "ipython3",
   "version": "3.7.7"
  }
 },
 "nbformat": 4,
 "nbformat_minor": 4
}
