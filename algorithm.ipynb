{
 "cells": [
  {
   "cell_type": "markdown",
   "metadata": {},
   "source": [
    "## 1. 백트레킹/ DFS"
   ]
  },
  {
   "cell_type": "code",
   "execution_count": 1,
   "metadata": {},
   "outputs": [
    {
     "name": "stdout",
     "output_type": "stream",
     "text": [
      "[[1, 1], [1, 2], [1, 3], [1, 4], [2, 1], [2, 2], [2, 3], [2, 4], [3, 1], [3, 2], [3, 3], [3, 4], [4, 1], [4, 2], [4, 3], [4, 4]]\n"
     ]
    }
   ],
   "source": [
    "# n까지의 자연수 중 m개를 골라 만들 수 있는 모든 조합\n",
    "\n",
    "n, m = 4,2\n",
    "answer = []\n",
    "\n",
    "def backtracking (lst):\n",
    "    if len(lst) >= m:\n",
    "        answer.append([*lst]) # 리스트를 그대로 쓰면 깊은 복사가 되므로 unpacking을 활용\n",
    "        return\n",
    "    \n",
    "    for i in range(1,n+1):\n",
    "        lst.append(i)\n",
    "        backtracking(lst)\n",
    "        lst.pop()\n",
    "    return\n",
    "\n",
    "backtracking([])\n",
    "print(answer)"
   ]
  },
  {
   "cell_type": "code",
   "execution_count": 11,
   "metadata": {},
   "outputs": [
    {
     "data": {
      "text/plain": [
       "[[[0, 0], [0, 1], [1, 1], [2, 1], [2, 2], [3, 2], [3, 3]],\n",
       " [[0, 0], [0, 1], [1, 1], [1, 2], [2, 2], [3, 2], [3, 3]],\n",
       " [[0, 0], [0, 1], [0, 2], [1, 2], [2, 2], [3, 2], [3, 3]],\n",
       " [[0, 0], [0, 1], [0, 2], [1, 2], [1, 1], [2, 1], [2, 2], [3, 2], [3, 3]]]"
      ]
     },
     "execution_count": 11,
     "metadata": {},
     "output_type": "execute_result"
    }
   ],
   "source": [
    "# n*n 미로의 모든 경로 찾기\n",
    "board = [[0,0,0,1],\n",
    "         [1,0,0,1], \n",
    "         [1,0,0,1], \n",
    "         [1,1,0,0]] \n",
    "n = 4\n",
    "answer = []\n",
    "visited = set([(0,0)])\n",
    "\n",
    "def check(x,y):\n",
    "    if (0 <= x < n) and (0<= y < n):\n",
    "        if ((x,y) not in visited) and (board[x][y] == 0):\n",
    "            return True\n",
    "    return False\n",
    "\n",
    "def DFS(now,route):\n",
    "    \n",
    "    if now[0] == n-1 and now[1] == n-1:\n",
    "        answer.append([*route])\n",
    "        return\n",
    "\n",
    "    delta = [[1,0],[-1,0],[0,1],[0,-1]]\n",
    "    for d in delta:\n",
    "        nx, ny = now[0]+d[0], now[1]+d[1]\n",
    "        if check(nx,ny): # 전 단계의 자취를 지울 땐 해당 조건 내에서만\n",
    "            route.append([nx,ny])\n",
    "            visited.add((nx,ny))\n",
    "            DFS([nx,ny],route)\n",
    "            route.pop()\n",
    "            visited.remove((nx,ny))\n",
    "            \n",
    "    return \n",
    "\n",
    "DFS([0,0],[[0,0]])\n",
    "answer"
   ]
  },
  {
   "cell_type": "code",
   "execution_count": null,
   "metadata": {},
   "outputs": [],
   "source": []
  }
 ],
 "metadata": {
  "kernelspec": {
   "display_name": "Python 3",
   "language": "python",
   "name": "python3"
  },
  "language_info": {
   "codemirror_mode": {
    "name": "ipython",
    "version": 3
   },
   "file_extension": ".py",
   "mimetype": "text/x-python",
   "name": "python",
   "nbconvert_exporter": "python",
   "pygments_lexer": "ipython3",
   "version": "3.7.7"
  }
 },
 "nbformat": 4,
 "nbformat_minor": 4
}
